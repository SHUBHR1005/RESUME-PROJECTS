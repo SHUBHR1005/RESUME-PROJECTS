{
  "nbformat": 4,
  "nbformat_minor": 0,
  "metadata": {
    "colab": {
      "provenance": [],
      "toc_visible": true
    },
    "kernelspec": {
      "name": "python3",
      "display_name": "Python 3"
    },
    "language_info": {
      "name": "python"
    }
  },
  "cells": [
    {
      "cell_type": "markdown",
      "source": [
        "# NLP with Disaster Tweets using LSTM"
      ],
      "metadata": {
        "id": "O8UXDjdfP9xs"
      }
    },
    {
      "cell_type": "markdown",
      "source": [
        "## IMPORTING LIBRARIES\n",
        "\n",
        "---\n",
        "\n"
      ],
      "metadata": {
        "id": "gT-jdac2Q2WB"
      }
    },
    {
      "cell_type": "code",
      "execution_count": null,
      "metadata": {
        "colab": {
          "base_uri": "https://localhost:8080/"
        },
        "id": "0jfCjxZBOgwM",
        "outputId": "9648da59-b1bc-47f4-84d6-76e6097a4308"
      },
      "outputs": [
        {
          "output_type": "stream",
          "name": "stderr",
          "text": [
            "[nltk_data] Downloading package stopwords to /root/nltk_data...\n",
            "[nltk_data]   Package stopwords is already up-to-date!\n",
            "[nltk_data] Downloading package punkt to /root/nltk_data...\n",
            "[nltk_data]   Package punkt is already up-to-date!\n",
            "[nltk_data] Downloading package wordnet to /root/nltk_data...\n",
            "[nltk_data]   Package wordnet is already up-to-date!\n"
          ]
        }
      ],
      "source": [
        "import numpy as np # linear algebra\n",
        "import pandas as pd\n",
        "import os\n",
        "#Libraries for visualisation\n",
        "import seaborn as sns\n",
        "import matplotlib.pyplot as plt\n",
        "\n",
        "#Libraries for formattting and handling text\n",
        "import string\n",
        "import re\n",
        "\n",
        "#Library for nltk\n",
        "import nltk\n",
        "nltk.download('stopwords')\n",
        "nltk.download('punkt')\n",
        "from nltk.corpus import stopwords\n",
        "from nltk.tokenize import sent_tokenize, word_tokenize\n",
        "from nltk.stem import WordNetLemmatizer\n",
        "from wordcloud import WordCloud, STOPWORDS\n",
        "\n",
        "# the WordNet dataset (needed for lemmatization)\n",
        "nltk.download('wordnet')\n",
        "\n",
        "#Library for Splitting Dataset\n",
        "from sklearn.model_selection import train_test_split\n",
        "\n",
        "\n",
        "#Libraries for NN\n",
        "import tensorflow as tf\n",
        "\n",
        "from tensorflow import keras\n",
        "from tensorflow.keras.preprocessing.text import Tokenizer\n",
        "from nltk.stem import PorterStemmer, WordNetLemmatizer\n",
        "from tensorflow.keras.preprocessing.sequence import pad_sequences\n",
        "\n",
        "from tensorflow.keras import optimizers\n",
        "from tensorflow.keras.models import Sequential\n",
        "from tensorflow.keras.layers import Dense, Embedding, LSTM, Dropout\n",
        "\n",
        "from tensorflow.keras.utils import plot_model\n",
        "\n",
        "#Library for evaluation\n",
        "from sklearn import metrics\n",
        "from functools import reduce\n",
        "from sklearn.metrics import confusion_matrix\n",
        "from sklearn.metrics import classification_report\n",
        "\n",
        "import warnings\n",
        "warnings.filterwarnings(\"ignore\")\n",
        "\n",
        "import itertools\n",
        "from collections import Counter"
      ]
    },
    {
      "cell_type": "markdown",
      "source": [
        "## DATA\n",
        "\n",
        "---\n",
        "\n"
      ],
      "metadata": {
        "id": "2eZMa-8yQv3r"
      }
    },
    {
      "cell_type": "code",
      "source": [
        "train_data = pd.read_csv('/content/drive/MyDrive/DATASET/DISTWEET_TRAIN.csv')\n",
        "test_data = pd.read_csv('/content/drive/MyDrive/DATASET/DISTWEET TEST.csv')"
      ],
      "metadata": {
        "id": "4tT58WlfQLhO"
      },
      "execution_count": null,
      "outputs": []
    },
    {
      "cell_type": "code",
      "source": [
        "train_data.sample(10).style.background_gradient(cmap='coolwarm')"
      ],
      "metadata": {
        "colab": {
          "base_uri": "https://localhost:8080/",
          "height": 363
        },
        "id": "69QRKgNuRCMF",
        "outputId": "2223a2f6-892f-4de5-d74a-94cf8dbb6521"
      },
      "execution_count": null,
      "outputs": [
        {
          "output_type": "execute_result",
          "data": {
            "text/plain": [
              "<pandas.io.formats.style.Styler at 0x79e4c820c3d0>"
            ],
            "text/html": [
              "<style type=\"text/css\">\n",
              "#T_68222_row0_col0 {\n",
              "  background-color: #6180e9;\n",
              "  color: #f1f1f1;\n",
              "}\n",
              "#T_68222_row0_col4, #T_68222_row1_col4, #T_68222_row2_col4, #T_68222_row4_col0, #T_68222_row4_col4, #T_68222_row7_col4, #T_68222_row9_col4 {\n",
              "  background-color: #3b4cc0;\n",
              "  color: #f1f1f1;\n",
              "}\n",
              "#T_68222_row1_col0 {\n",
              "  background-color: #d3dbe7;\n",
              "  color: #000000;\n",
              "}\n",
              "#T_68222_row2_col0 {\n",
              "  background-color: #f7b599;\n",
              "  color: #000000;\n",
              "}\n",
              "#T_68222_row3_col0 {\n",
              "  background-color: #f29274;\n",
              "  color: #f1f1f1;\n",
              "}\n",
              "#T_68222_row3_col4, #T_68222_row5_col4, #T_68222_row6_col4, #T_68222_row7_col0, #T_68222_row8_col4 {\n",
              "  background-color: #b40426;\n",
              "  color: #f1f1f1;\n",
              "}\n",
              "#T_68222_row5_col0 {\n",
              "  background-color: #f6bea4;\n",
              "  color: #000000;\n",
              "}\n",
              "#T_68222_row6_col0 {\n",
              "  background-color: #f5c1a9;\n",
              "  color: #000000;\n",
              "}\n",
              "#T_68222_row8_col0 {\n",
              "  background-color: #afcafc;\n",
              "  color: #000000;\n",
              "}\n",
              "#T_68222_row9_col0 {\n",
              "  background-color: #d5dbe5;\n",
              "  color: #000000;\n",
              "}\n",
              "</style>\n",
              "<table id=\"T_68222\" class=\"dataframe\">\n",
              "  <thead>\n",
              "    <tr>\n",
              "      <th class=\"blank level0\" >&nbsp;</th>\n",
              "      <th id=\"T_68222_level0_col0\" class=\"col_heading level0 col0\" >id</th>\n",
              "      <th id=\"T_68222_level0_col1\" class=\"col_heading level0 col1\" >keyword</th>\n",
              "      <th id=\"T_68222_level0_col2\" class=\"col_heading level0 col2\" >location</th>\n",
              "      <th id=\"T_68222_level0_col3\" class=\"col_heading level0 col3\" >text</th>\n",
              "      <th id=\"T_68222_level0_col4\" class=\"col_heading level0 col4\" >target</th>\n",
              "    </tr>\n",
              "  </thead>\n",
              "  <tbody>\n",
              "    <tr>\n",
              "      <th id=\"T_68222_level0_row0\" class=\"row_heading level0 row0\" >1312</th>\n",
              "      <td id=\"T_68222_row0_col0\" class=\"data row0 col0\" >1895</td>\n",
              "      <td id=\"T_68222_row0_col1\" class=\"data row0 col1\" >burning</td>\n",
              "      <td id=\"T_68222_row0_col2\" class=\"data row0 col2\" >NY</td>\n",
              "      <td id=\"T_68222_row0_col3\" class=\"data row0 col3\" >The Burning Legion has RETURNED!  https://t.co/hKsbmijqZ1</td>\n",
              "      <td id=\"T_68222_row0_col4\" class=\"data row0 col4\" >0</td>\n",
              "    </tr>\n",
              "    <tr>\n",
              "      <th id=\"T_68222_level0_row1\" class=\"row_heading level0 row1\" >3450</th>\n",
              "      <td id=\"T_68222_row1_col0\" class=\"data row1 col0\" >4934</td>\n",
              "      <td id=\"T_68222_row1_col1\" class=\"data row1 col1\" >exploded</td>\n",
              "      <td id=\"T_68222_row1_col2\" class=\"data row1 col2\" >USA</td>\n",
              "      <td id=\"T_68222_row1_col3\" class=\"data row1 col3\" >If you told me ten years ago that I'd be seeing anime on the big screen... ...I probably would have exploded</td>\n",
              "      <td id=\"T_68222_row1_col4\" class=\"data row1 col4\" >0</td>\n",
              "    </tr>\n",
              "    <tr>\n",
              "      <th id=\"T_68222_level0_row2\" class=\"row_heading level0 row2\" >4803</th>\n",
              "      <td id=\"T_68222_row2_col0\" class=\"data row2 col0\" >6835</td>\n",
              "      <td id=\"T_68222_row2_col1\" class=\"data row2 col1\" >loud%20bang</td>\n",
              "      <td id=\"T_68222_row2_col2\" class=\"data row2 col2\" >{Detailed}</td>\n",
              "      <td id=\"T_68222_row2_col3\" class=\"data row2 col3\" >@ToxicSavior_ -a loud bang. He froze on the spot as slowly every head turned towards him. One of the things he hated the most was to be -</td>\n",
              "      <td id=\"T_68222_row2_col4\" class=\"data row2 col4\" >0</td>\n",
              "    </tr>\n",
              "    <tr>\n",
              "      <th id=\"T_68222_level0_row3\" class=\"row_heading level0 row3\" >5374</th>\n",
              "      <td id=\"T_68222_row3_col0\" class=\"data row3 col0\" >7670</td>\n",
              "      <td id=\"T_68222_row3_col1\" class=\"data row3 col1\" >panic</td>\n",
              "      <td id=\"T_68222_row3_col2\" class=\"data row3 col2\" >Palm Bay, FL (Kissimmee)</td>\n",
              "      <td id=\"T_68222_row3_col3\" class=\"data row3 col3\" >Panic over: Patient in Alabama tests negative for Ebola\n",
              "http://t.co/cY0CiU2u1C</td>\n",
              "      <td id=\"T_68222_row3_col4\" class=\"data row3 col4\" >1</td>\n",
              "    </tr>\n",
              "    <tr>\n",
              "      <th id=\"T_68222_level0_row4\" class=\"row_heading level0 row4\" >542</th>\n",
              "      <td id=\"T_68222_row4_col0\" class=\"data row4 col0\" >788</td>\n",
              "      <td id=\"T_68222_row4_col1\" class=\"data row4 col1\" >avalanche</td>\n",
              "      <td id=\"T_68222_row4_col2\" class=\"data row4 col2\" >Freeport il </td>\n",
              "      <td id=\"T_68222_row4_col3\" class=\"data row4 col3\" >The possible new jerseys for the Avalanche next year. ???? http://t.co/nruzhR5XQu</td>\n",
              "      <td id=\"T_68222_row4_col4\" class=\"data row4 col4\" >0</td>\n",
              "    </tr>\n",
              "    <tr>\n",
              "      <th id=\"T_68222_level0_row5\" class=\"row_heading level0 row5\" >4631</th>\n",
              "      <td id=\"T_68222_row5_col0\" class=\"data row5 col0\" >6582</td>\n",
              "      <td id=\"T_68222_row5_col1\" class=\"data row5 col1\" >injury</td>\n",
              "      <td id=\"T_68222_row5_col2\" class=\"data row5 col2\" >nan</td>\n",
              "      <td id=\"T_68222_row5_col3\" class=\"data row5 col3\" >incident with injury:I-495  inner loop Exit 31 - MD 97/Georgia Ave Silver Spring</td>\n",
              "      <td id=\"T_68222_row5_col4\" class=\"data row5 col4\" >1</td>\n",
              "    </tr>\n",
              "    <tr>\n",
              "      <th id=\"T_68222_level0_row6\" class=\"row_heading level0 row6\" >4556</th>\n",
              "      <td id=\"T_68222_row6_col0\" class=\"data row6 col0\" >6477</td>\n",
              "      <td id=\"T_68222_row6_col1\" class=\"data row6 col1\" >injured</td>\n",
              "      <td id=\"T_68222_row6_col2\" class=\"data row6 col2\" >nan</td>\n",
              "      <td id=\"T_68222_row6_col3\" class=\"data row6 col3\" >Udhampur terror attack: Militants attack police post 2 SPOs injured: Suspected militants tonight attacked a p... http://t.co/cEKbxJmPBj</td>\n",
              "      <td id=\"T_68222_row6_col4\" class=\"data row6 col4\" >1</td>\n",
              "    </tr>\n",
              "    <tr>\n",
              "      <th id=\"T_68222_level0_row7\" class=\"row_heading level0 row7\" >6804</th>\n",
              "      <td id=\"T_68222_row7_col0\" class=\"data row7 col0\" >9749</td>\n",
              "      <td id=\"T_68222_row7_col1\" class=\"data row7 col1\" >tragedy</td>\n",
              "      <td id=\"T_68222_row7_col2\" class=\"data row7 col2\" >MÌ©xico</td>\n",
              "      <td id=\"T_68222_row7_col3\" class=\"data row7 col3\" >I'm gunning down romance\n",
              "It never did a thing for me\n",
              "But heartache and misery\n",
              "Ain't nothing but a tragedy http://t.co/jhUPOgbvs8</td>\n",
              "      <td id=\"T_68222_row7_col4\" class=\"data row7 col4\" >0</td>\n",
              "    </tr>\n",
              "    <tr>\n",
              "      <th id=\"T_68222_level0_row8\" class=\"row_heading level0 row8\" >2728</th>\n",
              "      <td id=\"T_68222_row8_col0\" class=\"data row8 col0\" >3919</td>\n",
              "      <td id=\"T_68222_row8_col1\" class=\"data row8 col1\" >devastated</td>\n",
              "      <td id=\"T_68222_row8_col2\" class=\"data row8 col2\" >Indonesia\n",
              "</td>\n",
              "      <td id=\"T_68222_row8_col3\" class=\"data row8 col3\" >Obama Declares Disaster for Typhoon-Devastated Saipan: Obama signs disaster declaration for Northern Marians a... http://t.co/a1MoeJxqyA</td>\n",
              "      <td id=\"T_68222_row8_col4\" class=\"data row8 col4\" >1</td>\n",
              "    </tr>\n",
              "    <tr>\n",
              "      <th id=\"T_68222_level0_row9\" class=\"row_heading level0 row9\" >3504</th>\n",
              "      <td id=\"T_68222_row9_col0\" class=\"data row9 col0\" >5007</td>\n",
              "      <td id=\"T_68222_row9_col1\" class=\"data row9 col1\" >explosion</td>\n",
              "      <td id=\"T_68222_row9_col2\" class=\"data row9 col2\" >nan</td>\n",
              "      <td id=\"T_68222_row9_col3\" class=\"data row9 col3\" >The insides of the explosion box..\n",
              "Get it customized the way you want!\n",
              "\n",
              "#dcubecrafts #greetingcardsÛ_ https://t.co/T07qxP5cBE</td>\n",
              "      <td id=\"T_68222_row9_col4\" class=\"data row9 col4\" >0</td>\n",
              "    </tr>\n",
              "  </tbody>\n",
              "</table>\n"
            ]
          },
          "metadata": {},
          "execution_count": 76
        }
      ]
    },
    {
      "cell_type": "markdown",
      "source": [
        "## DATA INFORMATION\n",
        "\n",
        "---\n",
        "\n"
      ],
      "metadata": {
        "id": "BqFSgJ5bSlav"
      }
    },
    {
      "cell_type": "code",
      "source": [
        "print(train_data.shape)\n",
        "print(test_data.shape)"
      ],
      "metadata": {
        "colab": {
          "base_uri": "https://localhost:8080/"
        },
        "id": "m_x4RGEhSk6x",
        "outputId": "032472e0-f701-4302-89b7-8668332a0b94"
      },
      "execution_count": null,
      "outputs": [
        {
          "output_type": "stream",
          "name": "stdout",
          "text": [
            "(7613, 5)\n",
            "(3263, 4)\n"
          ]
        }
      ]
    },
    {
      "cell_type": "markdown",
      "source": [
        "## DATA CLEANING\n",
        "\n",
        "---\n",
        "\n"
      ],
      "metadata": {
        "id": "ho_X4LjYTuzO"
      }
    },
    {
      "cell_type": "markdown",
      "source": [
        "### Removing Punctuations"
      ],
      "metadata": {
        "id": "x_oa1YZ3UWQ0"
      }
    },
    {
      "cell_type": "markdown",
      "source": [
        "We can create a function 'toclean_text' to remove punctuations, and then it can used to clean text column of training data."
      ],
      "metadata": {
        "id": "Wr1SdKzxUDkw"
      }
    },
    {
      "cell_type": "code",
      "source": [
        "def toclean_text(text):\n",
        "\n",
        "\n",
        "    clean_text = [char for char in text if char not in string.punctuation]\n",
        "\n",
        "    clean_text = ''.join(clean_text)\n",
        "\n",
        "\n",
        "    return clean_text"
      ],
      "metadata": {
        "id": "UpXEkSwOSw4Y"
      },
      "execution_count": null,
      "outputs": []
    },
    {
      "cell_type": "markdown",
      "source": [
        "This function takes an input string text, iterates through each character, removes punctuation characters using list comprehension, and then joins the characters back into a single string. The cleaned text is returned by the function."
      ],
      "metadata": {
        "id": "5cxcXzoBnetZ"
      }
    },
    {
      "cell_type": "markdown",
      "source": [
        "Function 'toclean_text', will remove punctuations in a text. Now we apply it to training data and create a column clean_text for the training data, which will have text without puntuations."
      ],
      "metadata": {
        "id": "tvga8nGRUNB-"
      }
    },
    {
      "cell_type": "code",
      "source": [
        "train_data['clean_text'] = train_data['text'].apply(toclean_text)"
      ],
      "metadata": {
        "id": "9dtwFbthUNi2"
      },
      "execution_count": null,
      "outputs": []
    },
    {
      "cell_type": "markdown",
      "source": [
        "### Removing Noise"
      ],
      "metadata": {
        "id": "hAwMLTsjUuxU"
      }
    },
    {
      "cell_type": "markdown",
      "source": [
        "Noise in a text can be considered as anything which does belong to normal human language interaction.\n",
        "\n",
        "Noise in the text can generally be considered as URL, abbreviations, emojis, message inside HTML tag, etc. Punctuations can also be considered as noise. But here we have already removed punctuations.\n",
        "\n",
        "The main reason why abbreviations are included as noise is that some people write thx for thankyou. If abbreviations are not replaced with the original word, 'thx' and 'thankyou' will be considered as two different words."
      ],
      "metadata": {
        "id": "PQ9_fdCuU1pK"
      }
    },
    {
      "cell_type": "code",
      "source": [
        "abbreviations = {\n",
        "    \"$\" : \" dollar \",\n",
        "    \"€\" : \" euro \",\n",
        "    \"4ao\" : \"for adults only\",\n",
        "    \"a.m\" : \"before midday\",\n",
        "    \"a3\" : \"anytime anywhere anyplace\",\n",
        "    \"aamof\" : \"as a matter of fact\",\n",
        "    \"acct\" : \"account\",\n",
        "    \"adih\" : \"another day in hell\",\n",
        "    \"afaic\" : \"as far as i am concerned\",\n",
        "    \"afaict\" : \"as far as i can tell\",\n",
        "    \"afaik\" : \"as far as i know\",\n",
        "    \"afair\" : \"as far as i remember\",\n",
        "    \"afk\" : \"away from keyboard\",\n",
        "    \"app\" : \"application\",\n",
        "    \"approx\" : \"approximately\",\n",
        "    \"apps\" : \"applications\",\n",
        "    \"asap\" : \"as soon as possible\",\n",
        "    \"asl\" : \"age, sex, location\",\n",
        "    \"atk\" : \"at the keyboard\",\n",
        "    \"ave.\" : \"avenue\",\n",
        "    \"aymm\" : \"are you my mother\",\n",
        "    \"ayor\" : \"at your own risk\",\n",
        "    \"b&b\" : \"bed and breakfast\",\n",
        "    \"b+b\" : \"bed and breakfast\",\n",
        "    \"b.c\" : \"before christ\",\n",
        "    \"b2b\" : \"business to business\",\n",
        "    \"b2c\" : \"business to customer\",\n",
        "    \"b4\" : \"before\",\n",
        "    \"b4n\" : \"bye for now\",\n",
        "    \"b@u\" : \"back at you\",\n",
        "    \"bae\" : \"before anyone else\",\n",
        "    \"bak\" : \"back at keyboard\",\n",
        "    \"bbbg\" : \"bye bye be good\",\n",
        "    \"bbc\" : \"british broadcasting corporation\",\n",
        "    \"bbias\" : \"be back in a second\",\n",
        "    \"bbl\" : \"be back later\",\n",
        "    \"bbs\" : \"be back soon\",\n",
        "    \"be4\" : \"before\",\n",
        "    \"bfn\" : \"bye for now\",\n",
        "    \"blvd\" : \"boulevard\",\n",
        "    \"bout\" : \"about\",\n",
        "    \"brb\" : \"be right back\",\n",
        "    \"bros\" : \"brothers\",\n",
        "    \"brt\" : \"be right there\",\n",
        "    \"bsaaw\" : \"big smile and a wink\",\n",
        "    \"btw\" : \"by the way\",\n",
        "    \"bwl\" : \"bursting with laughter\",\n",
        "    \"c/o\" : \"care of\",\n",
        "    \"cet\" : \"central european time\",\n",
        "    \"cf\" : \"compare\",\n",
        "    \"cia\" : \"central intelligence agency\",\n",
        "    \"csl\" : \"can not stop laughing\",\n",
        "    \"cu\" : \"see you\",\n",
        "    \"cul8r\" : \"see you later\",\n",
        "    \"cv\" : \"curriculum vitae\",\n",
        "    \"cwot\" : \"complete waste of time\",\n",
        "    \"cya\" : \"see you\",\n",
        "    \"cyt\" : \"see you tomorrow\",\n",
        "    \"dae\" : \"does anyone else\",\n",
        "    \"dbmib\" : \"do not bother me i am busy\",\n",
        "    \"diy\" : \"do it yourself\",\n",
        "    \"dm\" : \"direct message\",\n",
        "    \"dwh\" : \"during work hours\",\n",
        "    \"e123\" : \"easy as one two three\",\n",
        "    \"eet\" : \"eastern european time\",\n",
        "    \"eg\" : \"example\",\n",
        "    \"embm\" : \"early morning business meeting\",\n",
        "    \"encl\" : \"enclosed\",\n",
        "    \"encl.\" : \"enclosed\",\n",
        "    \"etc\" : \"and so on\",\n",
        "    \"faq\" : \"frequently asked questions\",\n",
        "    \"fawc\" : \"for anyone who cares\",\n",
        "    \"fb\" : \"facebook\",\n",
        "    \"fc\" : \"fingers crossed\",\n",
        "    \"fig\" : \"figure\",\n",
        "    \"fimh\" : \"forever in my heart\",\n",
        "    \"ft.\" : \"feet\",\n",
        "    \"ft\" : \"featuring\",\n",
        "    \"ftl\" : \"for the loss\",\n",
        "    \"ftw\" : \"for the win\",\n",
        "    \"fwiw\" : \"for what it is worth\",\n",
        "    \"fyi\" : \"for your information\",\n",
        "    \"g9\" : \"genius\",\n",
        "    \"gahoy\" : \"get a hold of yourself\",\n",
        "    \"gal\" : \"get a life\",\n",
        "    \"gcse\" : \"general certificate of secondary education\",\n",
        "    \"gfn\" : \"gone for now\",\n",
        "    \"gg\" : \"good game\",\n",
        "    \"gl\" : \"good luck\",\n",
        "    \"glhf\" : \"good luck have fun\",\n",
        "    \"gmt\" : \"greenwich mean time\",\n",
        "    \"gmta\" : \"great minds think alike\",\n",
        "    \"gn\" : \"good night\",\n",
        "    \"g.o.a.t\" : \"greatest of all time\",\n",
        "    \"goat\" : \"greatest of all time\",\n",
        "    \"goi\" : \"get over it\",\n",
        "    \"gps\" : \"global positioning system\",\n",
        "    \"gr8\" : \"great\",\n",
        "    \"gratz\" : \"congratulations\",\n",
        "    \"gyal\" : \"girl\",\n",
        "    \"h&c\" : \"hot and cold\",\n",
        "    \"hp\" : \"horsepower\",\n",
        "    \"hr\" : \"hour\",\n",
        "    \"hrh\" : \"his royal highness\",\n",
        "    \"ht\" : \"height\",\n",
        "    \"ibrb\" : \"i will be right back\",\n",
        "    \"ic\" : \"i see\",\n",
        "    \"icq\" : \"i seek you\",\n",
        "    \"icymi\" : \"in case you missed it\",\n",
        "    \"idc\" : \"i do not care\",\n",
        "    \"idgadf\" : \"i do not give a damn fuck\",\n",
        "    \"idgaf\" : \"i do not give a fuck\",\n",
        "    \"idk\" : \"i do not know\",\n",
        "    \"ie\" : \"that is\",\n",
        "    \"i.e\" : \"that is\",\n",
        "    \"ifyp\" : \"i feel your pain\",\n",
        "    \"IG\" : \"instagram\",\n",
        "    \"iirc\" : \"if i remember correctly\",\n",
        "    \"ilu\" : \"i love you\",\n",
        "    \"ily\" : \"i love you\",\n",
        "    \"imho\" : \"in my humble opinion\",\n",
        "    \"imo\" : \"in my opinion\",\n",
        "    \"imu\" : \"i miss you\",\n",
        "    \"iow\" : \"in other words\",\n",
        "    \"irl\" : \"in real life\",\n",
        "    \"j4f\" : \"just for fun\",\n",
        "    \"jic\" : \"just in case\",\n",
        "    \"jk\" : \"just kidding\",\n",
        "    \"jsyk\" : \"just so you know\",\n",
        "    \"l8r\" : \"later\",\n",
        "    \"lb\" : \"pound\",\n",
        "    \"lbs\" : \"pounds\",\n",
        "    \"ldr\" : \"long distance relationship\",\n",
        "    \"lmao\" : \"laugh my ass off\",\n",
        "    \"lmfao\" : \"laugh my fucking ass off\",\n",
        "    \"lol\" : \"laughing out loud\",\n",
        "    \"ltd\" : \"limited\",\n",
        "    \"ltns\" : \"long time no see\",\n",
        "    \"m8\" : \"mate\",\n",
        "    \"mf\" : \"motherfucker\",\n",
        "    \"mfs\" : \"motherfuckers\",\n",
        "    \"mfw\" : \"my face when\",\n",
        "    \"mofo\" : \"motherfucker\",\n",
        "    \"mph\" : \"miles per hour\",\n",
        "    \"mr\" : \"mister\",\n",
        "    \"mrw\" : \"my reaction when\",\n",
        "    \"ms\" : \"miss\",\n",
        "    \"mte\" : \"my thoughts exactly\",\n",
        "    \"nagi\" : \"not a good idea\",\n",
        "    \"nbc\" : \"national broadcasting company\",\n",
        "    \"nbd\" : \"not big deal\",\n",
        "    \"nfs\" : \"not for sale\",\n",
        "    \"ngl\" : \"not going to lie\",\n",
        "    \"nhs\" : \"national health service\",\n",
        "    \"nrn\" : \"no reply necessary\",\n",
        "    \"nsfl\" : \"not safe for life\",\n",
        "    \"nsfw\" : \"not safe for work\",\n",
        "    \"nth\" : \"nice to have\",\n",
        "    \"nvr\" : \"never\",\n",
        "    \"nyc\" : \"new york city\",\n",
        "    \"oc\" : \"original content\",\n",
        "    \"og\" : \"original\",\n",
        "    \"ohp\" : \"overhead projector\",\n",
        "    \"oic\" : \"oh i see\",\n",
        "    \"omdb\" : \"over my dead body\",\n",
        "    \"omg\" : \"oh my god\",\n",
        "    \"omw\" : \"on my way\",\n",
        "    \"p.a\" : \"per annum\",\n",
        "    \"p.m\" : \"after midday\",\n",
        "    \"pm\" : \"prime minister\",\n",
        "    \"poc\" : \"people of color\",\n",
        "    \"pov\" : \"point of view\",\n",
        "    \"pp\" : \"pages\",\n",
        "    \"ppl\" : \"people\",\n",
        "    \"prw\" : \"parents are watching\",\n",
        "    \"ps\" : \"postscript\",\n",
        "    \"pt\" : \"point\",\n",
        "    \"ptb\" : \"please text back\",\n",
        "    \"pto\" : \"please turn over\",\n",
        "    \"qpsa\" : \"what happens\",\n",
        "    \"ratchet\" : \"rude\",\n",
        "    \"rbtl\" : \"read between the lines\",\n",
        "    \"rlrt\" : \"real life retweet\",\n",
        "    \"rofl\" : \"rolling on the floor laughing\",\n",
        "    \"roflol\" : \"rolling on the floor laughing out loud\",\n",
        "    \"rotflmao\" : \"rolling on the floor laughing my ass off\",\n",
        "    \"rt\" : \"retweet\",\n",
        "    \"ruok\" : \"are you ok\",\n",
        "    \"sfw\" : \"safe for work\",\n",
        "    \"sk8\" : \"skate\",\n",
        "    \"smh\" : \"shake my head\",\n",
        "    \"sq\" : \"square\",\n",
        "    \"srsly\" : \"seriously\",\n",
        "    \"ssdd\" : \"same stuff different day\",\n",
        "    \"tbh\" : \"to be honest\",\n",
        "    \"tbs\" : \"tablespooful\",\n",
        "    \"tbsp\" : \"tablespooful\",\n",
        "    \"tfw\" : \"that feeling when\",\n",
        "    \"thks\" : \"thank you\",\n",
        "    \"tho\" : \"though\",\n",
        "    \"thx\" : \"thank you\",\n",
        "    \"tia\" : \"thanks in advance\",\n",
        "    \"til\" : \"today i learned\",\n",
        "    \"tl;dr\" : \"too long i did not read\",\n",
        "    \"tldr\" : \"too long i did not read\",\n",
        "    \"tmb\" : \"tweet me back\",\n",
        "    \"tntl\" : \"trying not to laugh\",\n",
        "    \"ttyl\" : \"talk to you later\",\n",
        "    \"u\" : \"you\",\n",
        "    \"u2\" : \"you too\",\n",
        "    \"u4e\" : \"yours for ever\",\n",
        "    \"utc\" : \"coordinated universal time\",\n",
        "    \"w/\" : \"with\",\n",
        "    \"w/o\" : \"without\",\n",
        "    \"w8\" : \"wait\",\n",
        "    \"wassup\" : \"what is up\",\n",
        "    \"wb\" : \"welcome back\",\n",
        "    \"wtf\" : \"what the fuck\",\n",
        "    \"wtg\" : \"way to go\",\n",
        "    \"wtpa\" : \"where the party at\",\n",
        "    \"wuf\" : \"where are you from\",\n",
        "    \"wuzup\" : \"what is up\",\n",
        "    \"wywh\" : \"wish you were here\",\n",
        "    \"yd\" : \"yard\",\n",
        "    \"ygtr\" : \"you got that right\",\n",
        "    \"ynk\" : \"you never know\",\n",
        "    \"zzz\" : \"sleeping bored and tired\"\n",
        "}"
      ],
      "metadata": {
        "id": "mma9Lqb_UwGF"
      },
      "execution_count": null,
      "outputs": []
    },
    {
      "cell_type": "markdown",
      "source": [
        "`re`: Regular expressions are sequences of characters defining a search pattern to match, find, or replace text based on specific rules."
      ],
      "metadata": {
        "id": "mVNnc14tfGeD"
      }
    },
    {
      "cell_type": "code",
      "source": [
        "# Remove all URLs, replace by URL\n",
        "def remove_URL(text):\n",
        "    url = re.compile(r'https?://\\S+|www\\.\\S+')\n",
        "    return url.sub(r'URL',text)\n",
        "\n",
        "# Remove HTML beacon\n",
        "def remove_HTML(text):\n",
        "    html=re.compile(r'<.*?>')\n",
        "    return html.sub(r'',text)\n",
        "\n",
        "# Remove non printable characters\n",
        "def remove_not_ASCII(text):\n",
        "    text = ''.join([word for word in text if word in string.printable])\n",
        "    return text\n",
        "\n",
        "# Change an abbreviation by its true meaning\n",
        "def word_abbrev(word):\n",
        "    return abbreviations[word.lower()] if word.lower() in abbreviations.keys() else word\n",
        "\n",
        "# Replace all abbreviations\n",
        "def replace_abbrev(text):\n",
        "    string = \"\"\n",
        "    for word in text.split():\n",
        "        string += word_abbrev(word) + \" \"\n",
        "    return string\n",
        "\n",
        "# Remove @ and mention, replace by USER\n",
        "def remove_mention(text):\n",
        "    at=re.compile(r'@\\S+')\n",
        "    return at.sub(r'USER',text)\n",
        "\n",
        "# Remove numbers, replace it by NUMBER\n",
        "def remove_number(text):\n",
        "    num = re.compile(r'[-+]?[.\\d]*[\\d]+[:,.\\d]*')\n",
        "    return num.sub(r'NUMBER', text)\n",
        "\n",
        "# Remove all emojis, replace by EMOJI\n",
        "def remove_emoji(text):\n",
        "    emoji_pattern = re.compile(\"[\"\n",
        "                           u\"\\U0001F600-\\U0001F64F\"  # emoticons\n",
        "                           u\"\\U0001F300-\\U0001F5FF\"  # symbols & pictographs\n",
        "                           u\"\\U0001F680-\\U0001F6FF\"  # transport & map symbols\n",
        "                           u\"\\U0001F1E0-\\U0001F1FF\"  # flags (iOS)\n",
        "                           u\"\\U00002702-\\U000027B0\"\n",
        "                           u\"\\U000024C2-\\U0001F251\"\n",
        "                           \"]+\", flags=re.UNICODE)\n",
        "    return emoji_pattern.sub(r'EMOJI', text)\n",
        "\n",
        "# Replace some others smileys with SADFACE\n",
        "def transcription_sad(text):\n",
        "    eyes = \"[8:=;]\"\n",
        "    nose = \"['`\\-]\"\n",
        "    smiley = re.compile(r'[8:=;][\\'\\-]?[(\\\\/]')\n",
        "    return smiley.sub(r'SADFACE', text)\n",
        "\n",
        "# Replace some smileys with SMILE\n",
        "def transcription_smile(text):\n",
        "    eyes = \"[8:=;]\"\n",
        "    nose = \"['`\\-]\"\n",
        "    smiley = re.compile(r'[8:=;][\\'\\-]?[)dDp]')\n",
        "    #smiley = re.compile(r'#{eyes}#{nose}[)d]+|[)d]+#{nose}#{eyes}/i')\n",
        "    return smiley.sub(r'SMILE', text)\n",
        "\n",
        "# Replace <3 with HEART\n",
        "def transcription_heart(text):\n",
        "    heart = re.compile(r'<3')\n",
        "    return heart.sub(r'HEART', text)"
      ],
      "metadata": {
        "id": "5lYpHdxOU-Mc"
      },
      "execution_count": null,
      "outputs": []
    },
    {
      "cell_type": "markdown",
      "source": [
        "the `u` prefix before a string literal indicates that the string should be treated as a Unicode string. Unicode is a standard for representing text characters from various writing systems around the world."
      ],
      "metadata": {
        "id": "uDRo1Ua1oELm"
      }
    },
    {
      "cell_type": "code",
      "source": [
        "def clean_tweet(text):\n",
        "\n",
        "    # Remove non text\n",
        "    text = remove_URL(text)\n",
        "    text = remove_HTML(text)\n",
        "    text = remove_not_ASCII(text)\n",
        "\n",
        "    # replace abbreviations, @ and number\n",
        "    text = replace_abbrev(text)\n",
        "    text = remove_mention(text)\n",
        "    text = remove_number(text)\n",
        "\n",
        "    # Remove emojis / smileys\n",
        "    text = remove_emoji(text)\n",
        "    text = transcription_sad(text)\n",
        "    text = transcription_smile(text)\n",
        "    text = transcription_heart(text)\n",
        "\n",
        "    return text"
      ],
      "metadata": {
        "id": "EU7C1nLRVdIU"
      },
      "execution_count": null,
      "outputs": []
    },
    {
      "cell_type": "markdown",
      "source": [
        "Function clean_tweet() will remove all the noise in the text."
      ],
      "metadata": {
        "id": "gGZhWuYmV7YF"
      }
    },
    {
      "cell_type": "code",
      "source": [
        "train_data[\"clean_text\"] = train_data[\"clean_text\"].apply(clean_tweet)"
      ],
      "metadata": {
        "id": "l0L58sdUV7BP"
      },
      "execution_count": null,
      "outputs": []
    },
    {
      "cell_type": "markdown",
      "source": [
        "### Removing Stopwords"
      ],
      "metadata": {
        "id": "a8gDQeB8WAnn"
      }
    },
    {
      "cell_type": "markdown",
      "source": [
        "Stopwords are commonly used words, which do not have any distinguishing features, like \"a\", \"an\", \"the\", so on… and search engine is programmed to ignore them while indexing entries and while retrieving the results of a search query. It saves space in the database and decreases processing speed.\n",
        "\n",
        "Natural Language Toolkit(nlkt) in python has a list of stopwords stored in 16 different languages. It is a leading platform for building a python program to work with human language data."
      ],
      "metadata": {
        "id": "nqs_5iXmWFUg"
      }
    },
    {
      "cell_type": "code",
      "source": [
        "def toremove_stopword(text):\n",
        "    remove_stopword = [word for word in text.split() if word.lower() not in stopwords.words('english')]\n",
        "\n",
        "    return remove_stopword"
      ],
      "metadata": {
        "id": "q_HTUMMpWBn9"
      },
      "execution_count": null,
      "outputs": []
    },
    {
      "cell_type": "code",
      "source": [
        "train_data['clean_text'] = train_data['clean_text'].apply(toremove_stopword)"
      ],
      "metadata": {
        "id": "xWgZfeZqWb_t"
      },
      "execution_count": null,
      "outputs": []
    },
    {
      "cell_type": "markdown",
      "source": [
        "### Lowercasing"
      ],
      "metadata": {
        "id": "Ly8nrLKUW7zt"
      }
    },
    {
      "cell_type": "markdown",
      "source": [
        "Lowercasing is a preprocessing method in which the text is converted into the lower case. In tokenization, Keras tokenizer is used, which will be converting texts to lowercase.\n",
        "\n",
        "So here there is no need for lowercasing the texts as it will be a duplicate work."
      ],
      "metadata": {
        "id": "IwBhbrFAW-tu"
      }
    },
    {
      "cell_type": "markdown",
      "source": [
        "### Tokenization"
      ],
      "metadata": {
        "id": "KYrMZL8cXCCM"
      }
    },
    {
      "cell_type": "markdown",
      "source": [
        "Tokenization generally decomposes text documents into small tokens and constructs a document word matrix. A document can be considered as a bag of words. Collection of document is called Corpus.\n",
        "\n",
        "In document word matrix :\n",
        "\n",
        "* Each Row represents a document (bag of words)\n",
        "* Each column distinct token\n",
        "* Each cell represents the frequency of occurrence of the token\n",
        "\n",
        "Here Keras Tokenizer() is used which is supported by Tensorflow as a high-level API that encodes the token to a numerical value. The main reason to use this is in LSTM input is provided by embedding layer, which requires input data to be integer encoded.\n",
        "\n",
        "Parameter 'num_words' can be used to restrict the number of the token to considered by the model.\n",
        "\n",
        "Tokenizer() uses fit_on_texts() and texts_to_sequences() to encode the texts to numerical values.\n",
        "\n",
        "1. Fit_on_texts() Updates internal vocabulary based on a list of texts. It will create a dictionary with word mapping with an index (unique numerical value). Here all the words will be in lower case and the least value of index will be the more frequent word.\n",
        "\n",
        "2. texts_to_sequences() Transforms each text in texts to a sequence of numerical value. It will give assign the index of each to the word. So the output will be series of numerical values."
      ],
      "metadata": {
        "id": "z9fLDIx9XHNm"
      }
    },
    {
      "cell_type": "code",
      "source": [
        "max_features=3000\n",
        "tokenizer=Tokenizer(num_words=max_features,split=' ')\n",
        "tokenizer.fit_on_texts(train_data['clean_text'].values)\n",
        "X = tokenizer.texts_to_sequences(train_data['clean_text'].values)\n",
        "X = pad_sequences(X)"
      ],
      "metadata": {
        "id": "G-0Ri4f4W84p"
      },
      "execution_count": null,
      "outputs": []
    },
    {
      "cell_type": "markdown",
      "source": [
        "We are not be having the same length for all the sentences and while providing input to neural networks, we should have the same dimension for all inputs. So pad_sequence() is used to pad the input so that all the inputs have the same dimension. It will add zeros to the input, in the beginning, to make sure all the inputs have the same dimension."
      ],
      "metadata": {
        "id": "iEnBzUIZX9Vq"
      }
    },
    {
      "cell_type": "code",
      "source": [
        "X.shape"
      ],
      "metadata": {
        "colab": {
          "base_uri": "https://localhost:8080/"
        },
        "id": "GESa-kJQX4xf",
        "outputId": "8ecb0d30-5086-49cc-bd24-f91838c4c531"
      },
      "execution_count": null,
      "outputs": [
        {
          "output_type": "execute_result",
          "data": {
            "text/plain": [
              "(7613, 20)"
            ]
          },
          "metadata": {},
          "execution_count": 87
        }
      ]
    },
    {
      "cell_type": "markdown",
      "source": [
        "Here size of tokenized vector is 20, it is the maximum length of clean_text considering excluding those tokens which does not belong to top 3000 tokens. That is if the maximum length of clean_text is 35, then the 15 token will not be qualified to come under top 3000 tokens.\n",
        "\n",
        "We can restrict on enhance dimension of tokenized vector by providing a parameter maxlen to pad_sequence()."
      ],
      "metadata": {
        "id": "tYRboUIqYCik"
      }
    },
    {
      "cell_type": "code",
      "source": [
        "train_data.head(5)"
      ],
      "metadata": {
        "colab": {
          "base_uri": "https://localhost:8080/",
          "height": 206
        },
        "id": "A7F3CayIsxA4",
        "outputId": "1d5b3d64-2c43-4ce6-b264-2dc981dff860"
      },
      "execution_count": null,
      "outputs": [
        {
          "output_type": "execute_result",
          "data": {
            "text/plain": [
              "   id keyword location                                               text  \\\n",
              "0   1     NaN      NaN  Our Deeds are the Reason of this #earthquake M...   \n",
              "1   4     NaN      NaN             Forest fire near La Ronge Sask. Canada   \n",
              "2   5     NaN      NaN  All residents asked to 'shelter in place' are ...   \n",
              "3   6     NaN      NaN  13,000 people receive #wildfires evacuation or...   \n",
              "4   7     NaN      NaN  Just got sent this photo from Ruby #Alaska as ...   \n",
              "\n",
              "   target                                         clean_text  \n",
              "0       1  [Deeds, Reason, earthquake, May, ALLAH, Forgiv...  \n",
              "1       1      [Forest, fire, near, La, Ronge, Sask, Canada]  \n",
              "2       1  [residents, asked, shelter, place, notified, o...  \n",
              "3       1  [NUMBER, people, receive, wildfires, evacuatio...  \n",
              "4       1  [got, sent, photo, Ruby, Alaska, smoke, wildfi...  "
            ],
            "text/html": [
              "\n",
              "  <div id=\"df-fc5945b6-8cc9-4ebf-a8af-dd3fa42c4e21\" class=\"colab-df-container\">\n",
              "    <div>\n",
              "<style scoped>\n",
              "    .dataframe tbody tr th:only-of-type {\n",
              "        vertical-align: middle;\n",
              "    }\n",
              "\n",
              "    .dataframe tbody tr th {\n",
              "        vertical-align: top;\n",
              "    }\n",
              "\n",
              "    .dataframe thead th {\n",
              "        text-align: right;\n",
              "    }\n",
              "</style>\n",
              "<table border=\"1\" class=\"dataframe\">\n",
              "  <thead>\n",
              "    <tr style=\"text-align: right;\">\n",
              "      <th></th>\n",
              "      <th>id</th>\n",
              "      <th>keyword</th>\n",
              "      <th>location</th>\n",
              "      <th>text</th>\n",
              "      <th>target</th>\n",
              "      <th>clean_text</th>\n",
              "    </tr>\n",
              "  </thead>\n",
              "  <tbody>\n",
              "    <tr>\n",
              "      <th>0</th>\n",
              "      <td>1</td>\n",
              "      <td>NaN</td>\n",
              "      <td>NaN</td>\n",
              "      <td>Our Deeds are the Reason of this #earthquake M...</td>\n",
              "      <td>1</td>\n",
              "      <td>[Deeds, Reason, earthquake, May, ALLAH, Forgiv...</td>\n",
              "    </tr>\n",
              "    <tr>\n",
              "      <th>1</th>\n",
              "      <td>4</td>\n",
              "      <td>NaN</td>\n",
              "      <td>NaN</td>\n",
              "      <td>Forest fire near La Ronge Sask. Canada</td>\n",
              "      <td>1</td>\n",
              "      <td>[Forest, fire, near, La, Ronge, Sask, Canada]</td>\n",
              "    </tr>\n",
              "    <tr>\n",
              "      <th>2</th>\n",
              "      <td>5</td>\n",
              "      <td>NaN</td>\n",
              "      <td>NaN</td>\n",
              "      <td>All residents asked to 'shelter in place' are ...</td>\n",
              "      <td>1</td>\n",
              "      <td>[residents, asked, shelter, place, notified, o...</td>\n",
              "    </tr>\n",
              "    <tr>\n",
              "      <th>3</th>\n",
              "      <td>6</td>\n",
              "      <td>NaN</td>\n",
              "      <td>NaN</td>\n",
              "      <td>13,000 people receive #wildfires evacuation or...</td>\n",
              "      <td>1</td>\n",
              "      <td>[NUMBER, people, receive, wildfires, evacuatio...</td>\n",
              "    </tr>\n",
              "    <tr>\n",
              "      <th>4</th>\n",
              "      <td>7</td>\n",
              "      <td>NaN</td>\n",
              "      <td>NaN</td>\n",
              "      <td>Just got sent this photo from Ruby #Alaska as ...</td>\n",
              "      <td>1</td>\n",
              "      <td>[got, sent, photo, Ruby, Alaska, smoke, wildfi...</td>\n",
              "    </tr>\n",
              "  </tbody>\n",
              "</table>\n",
              "</div>\n",
              "    <div class=\"colab-df-buttons\">\n",
              "\n",
              "  <div class=\"colab-df-container\">\n",
              "    <button class=\"colab-df-convert\" onclick=\"convertToInteractive('df-fc5945b6-8cc9-4ebf-a8af-dd3fa42c4e21')\"\n",
              "            title=\"Convert this dataframe to an interactive table.\"\n",
              "            style=\"display:none;\">\n",
              "\n",
              "  <svg xmlns=\"http://www.w3.org/2000/svg\" height=\"24px\" viewBox=\"0 -960 960 960\">\n",
              "    <path d=\"M120-120v-720h720v720H120Zm60-500h600v-160H180v160Zm220 220h160v-160H400v160Zm0 220h160v-160H400v160ZM180-400h160v-160H180v160Zm440 0h160v-160H620v160ZM180-180h160v-160H180v160Zm440 0h160v-160H620v160Z\"/>\n",
              "  </svg>\n",
              "    </button>\n",
              "\n",
              "  <style>\n",
              "    .colab-df-container {\n",
              "      display:flex;\n",
              "      gap: 12px;\n",
              "    }\n",
              "\n",
              "    .colab-df-convert {\n",
              "      background-color: #E8F0FE;\n",
              "      border: none;\n",
              "      border-radius: 50%;\n",
              "      cursor: pointer;\n",
              "      display: none;\n",
              "      fill: #1967D2;\n",
              "      height: 32px;\n",
              "      padding: 0 0 0 0;\n",
              "      width: 32px;\n",
              "    }\n",
              "\n",
              "    .colab-df-convert:hover {\n",
              "      background-color: #E2EBFA;\n",
              "      box-shadow: 0px 1px 2px rgba(60, 64, 67, 0.3), 0px 1px 3px 1px rgba(60, 64, 67, 0.15);\n",
              "      fill: #174EA6;\n",
              "    }\n",
              "\n",
              "    .colab-df-buttons div {\n",
              "      margin-bottom: 4px;\n",
              "    }\n",
              "\n",
              "    [theme=dark] .colab-df-convert {\n",
              "      background-color: #3B4455;\n",
              "      fill: #D2E3FC;\n",
              "    }\n",
              "\n",
              "    [theme=dark] .colab-df-convert:hover {\n",
              "      background-color: #434B5C;\n",
              "      box-shadow: 0px 1px 3px 1px rgba(0, 0, 0, 0.15);\n",
              "      filter: drop-shadow(0px 1px 2px rgba(0, 0, 0, 0.3));\n",
              "      fill: #FFFFFF;\n",
              "    }\n",
              "  </style>\n",
              "\n",
              "    <script>\n",
              "      const buttonEl =\n",
              "        document.querySelector('#df-fc5945b6-8cc9-4ebf-a8af-dd3fa42c4e21 button.colab-df-convert');\n",
              "      buttonEl.style.display =\n",
              "        google.colab.kernel.accessAllowed ? 'block' : 'none';\n",
              "\n",
              "      async function convertToInteractive(key) {\n",
              "        const element = document.querySelector('#df-fc5945b6-8cc9-4ebf-a8af-dd3fa42c4e21');\n",
              "        const dataTable =\n",
              "          await google.colab.kernel.invokeFunction('convertToInteractive',\n",
              "                                                    [key], {});\n",
              "        if (!dataTable) return;\n",
              "\n",
              "        const docLinkHtml = 'Like what you see? Visit the ' +\n",
              "          '<a target=\"_blank\" href=https://colab.research.google.com/notebooks/data_table.ipynb>data table notebook</a>'\n",
              "          + ' to learn more about interactive tables.';\n",
              "        element.innerHTML = '';\n",
              "        dataTable['output_type'] = 'display_data';\n",
              "        await google.colab.output.renderOutput(dataTable, element);\n",
              "        const docLink = document.createElement('div');\n",
              "        docLink.innerHTML = docLinkHtml;\n",
              "        element.appendChild(docLink);\n",
              "      }\n",
              "    </script>\n",
              "  </div>\n",
              "\n",
              "\n",
              "<div id=\"df-7fd4c5b7-7c52-4a96-87bb-9479867fc8e6\">\n",
              "  <button class=\"colab-df-quickchart\" onclick=\"quickchart('df-7fd4c5b7-7c52-4a96-87bb-9479867fc8e6')\"\n",
              "            title=\"Suggest charts.\"\n",
              "            style=\"display:none;\">\n",
              "\n",
              "<svg xmlns=\"http://www.w3.org/2000/svg\" height=\"24px\"viewBox=\"0 0 24 24\"\n",
              "     width=\"24px\">\n",
              "    <g>\n",
              "        <path d=\"M19 3H5c-1.1 0-2 .9-2 2v14c0 1.1.9 2 2 2h14c1.1 0 2-.9 2-2V5c0-1.1-.9-2-2-2zM9 17H7v-7h2v7zm4 0h-2V7h2v10zm4 0h-2v-4h2v4z\"/>\n",
              "    </g>\n",
              "</svg>\n",
              "  </button>\n",
              "\n",
              "<style>\n",
              "  .colab-df-quickchart {\n",
              "      --bg-color: #E8F0FE;\n",
              "      --fill-color: #1967D2;\n",
              "      --hover-bg-color: #E2EBFA;\n",
              "      --hover-fill-color: #174EA6;\n",
              "      --disabled-fill-color: #AAA;\n",
              "      --disabled-bg-color: #DDD;\n",
              "  }\n",
              "\n",
              "  [theme=dark] .colab-df-quickchart {\n",
              "      --bg-color: #3B4455;\n",
              "      --fill-color: #D2E3FC;\n",
              "      --hover-bg-color: #434B5C;\n",
              "      --hover-fill-color: #FFFFFF;\n",
              "      --disabled-bg-color: #3B4455;\n",
              "      --disabled-fill-color: #666;\n",
              "  }\n",
              "\n",
              "  .colab-df-quickchart {\n",
              "    background-color: var(--bg-color);\n",
              "    border: none;\n",
              "    border-radius: 50%;\n",
              "    cursor: pointer;\n",
              "    display: none;\n",
              "    fill: var(--fill-color);\n",
              "    height: 32px;\n",
              "    padding: 0;\n",
              "    width: 32px;\n",
              "  }\n",
              "\n",
              "  .colab-df-quickchart:hover {\n",
              "    background-color: var(--hover-bg-color);\n",
              "    box-shadow: 0 1px 2px rgba(60, 64, 67, 0.3), 0 1px 3px 1px rgba(60, 64, 67, 0.15);\n",
              "    fill: var(--button-hover-fill-color);\n",
              "  }\n",
              "\n",
              "  .colab-df-quickchart-complete:disabled,\n",
              "  .colab-df-quickchart-complete:disabled:hover {\n",
              "    background-color: var(--disabled-bg-color);\n",
              "    fill: var(--disabled-fill-color);\n",
              "    box-shadow: none;\n",
              "  }\n",
              "\n",
              "  .colab-df-spinner {\n",
              "    border: 2px solid var(--fill-color);\n",
              "    border-color: transparent;\n",
              "    border-bottom-color: var(--fill-color);\n",
              "    animation:\n",
              "      spin 1s steps(1) infinite;\n",
              "  }\n",
              "\n",
              "  @keyframes spin {\n",
              "    0% {\n",
              "      border-color: transparent;\n",
              "      border-bottom-color: var(--fill-color);\n",
              "      border-left-color: var(--fill-color);\n",
              "    }\n",
              "    20% {\n",
              "      border-color: transparent;\n",
              "      border-left-color: var(--fill-color);\n",
              "      border-top-color: var(--fill-color);\n",
              "    }\n",
              "    30% {\n",
              "      border-color: transparent;\n",
              "      border-left-color: var(--fill-color);\n",
              "      border-top-color: var(--fill-color);\n",
              "      border-right-color: var(--fill-color);\n",
              "    }\n",
              "    40% {\n",
              "      border-color: transparent;\n",
              "      border-right-color: var(--fill-color);\n",
              "      border-top-color: var(--fill-color);\n",
              "    }\n",
              "    60% {\n",
              "      border-color: transparent;\n",
              "      border-right-color: var(--fill-color);\n",
              "    }\n",
              "    80% {\n",
              "      border-color: transparent;\n",
              "      border-right-color: var(--fill-color);\n",
              "      border-bottom-color: var(--fill-color);\n",
              "    }\n",
              "    90% {\n",
              "      border-color: transparent;\n",
              "      border-bottom-color: var(--fill-color);\n",
              "    }\n",
              "  }\n",
              "</style>\n",
              "\n",
              "  <script>\n",
              "    async function quickchart(key) {\n",
              "      const quickchartButtonEl =\n",
              "        document.querySelector('#' + key + ' button');\n",
              "      quickchartButtonEl.disabled = true;  // To prevent multiple clicks.\n",
              "      quickchartButtonEl.classList.add('colab-df-spinner');\n",
              "      try {\n",
              "        const charts = await google.colab.kernel.invokeFunction(\n",
              "            'suggestCharts', [key], {});\n",
              "      } catch (error) {\n",
              "        console.error('Error during call to suggestCharts:', error);\n",
              "      }\n",
              "      quickchartButtonEl.classList.remove('colab-df-spinner');\n",
              "      quickchartButtonEl.classList.add('colab-df-quickchart-complete');\n",
              "    }\n",
              "    (() => {\n",
              "      let quickchartButtonEl =\n",
              "        document.querySelector('#df-7fd4c5b7-7c52-4a96-87bb-9479867fc8e6 button');\n",
              "      quickchartButtonEl.style.display =\n",
              "        google.colab.kernel.accessAllowed ? 'block' : 'none';\n",
              "    })();\n",
              "  </script>\n",
              "</div>\n",
              "    </div>\n",
              "  </div>\n"
            ]
          },
          "metadata": {},
          "execution_count": 88
        }
      ]
    },
    {
      "cell_type": "markdown",
      "source": [
        "## EXPLORATORY DATA ANALYSIS\n",
        "\n",
        "---\n",
        "\n"
      ],
      "metadata": {
        "id": "SOYf3ZOMYXo5"
      }
    },
    {
      "cell_type": "markdown",
      "source": [
        "### Target Distribution"
      ],
      "metadata": {
        "id": "lwNwEN-gYbQ_"
      }
    },
    {
      "cell_type": "code",
      "source": [
        "fig= plt.subplots(figsize=(10, 4), dpi=100)\n",
        "colors = ['seagreen', 'steelblue']\n",
        "plt.pie(train_data['target'].value_counts(),\n",
        "            labels=['Not Disaster', 'Disaster'],\n",
        "            autopct='%1.2f%%',\n",
        "            shadow=True,\n",
        "            explode=(0.05, 0),\n",
        "            startangle=60,\n",
        "        colors=colors)\n",
        "plt.title('Distribution of the Tweets', fontsize=18)\n",
        "plt.show()"
      ],
      "metadata": {
        "colab": {
          "base_uri": "https://localhost:8080/",
          "height": 372
        },
        "id": "96LEdFuvYbAH",
        "outputId": "371af7a0-995d-4690-d69b-babf71b26c06"
      },
      "execution_count": null,
      "outputs": [
        {
          "output_type": "display_data",
          "data": {
            "text/plain": [
              "<Figure size 1000x400 with 1 Axes>"
            ],
            "image/png": "[encoded data removed]"
          },
          "metadata": {}
        }
      ]
    },
    {
      "cell_type": "markdown",
      "source": [
        "Upon examining the distribution of our target variables, we observe that they are fairly balanced. The disparities between the classes are not substantial, which is indicative of a favorable scenario for modeling."
      ],
      "metadata": {
        "id": "J-OIDhAaYrEj"
      }
    },
    {
      "cell_type": "markdown",
      "source": [
        "### Most Common Words"
      ],
      "metadata": {
        "id": "L6L6nA-vZpJC"
      }
    },
    {
      "cell_type": "code",
      "source": [
        "disaster_keywords = train_data.loc[train_data[\"target\"] == 1][\"keyword\"].value_counts()\n",
        "nondisaster_keywords = train_data.loc[train_data[\"target\"] == 0][\"keyword\"].value_counts()\n",
        "\n",
        "fig, ax = plt.subplots(1,2, figsize=(20,8))\n",
        "sns.barplot(y=disaster_keywords[0:20].index, x=disaster_keywords[0:20], orient='h', ax=ax[0], palette=\"Reds_d\")\n",
        "ax[0].set_title(\"Top 20 Keywords - Disaster Tweets\")\n",
        "ax[0].set_xlabel(\"Keyword Frequency\")\n",
        "\n",
        "sns.barplot(y=nondisaster_keywords[0:20].index, x=nondisaster_keywords[0:20], orient='h', ax=ax[1], palette=\"Blues_d\")\n",
        "ax[1].set_title(\"Top 20 Keywords - Non-Disaster Tweets\")\n",
        "ax[1].set_xlabel(\"Keyword Frequency\")\n",
        "\n",
        "\n",
        "plt.tight_layout()\n",
        "plt.show()"
      ],
      "metadata": {
        "colab": {
          "base_uri": "https://localhost:8080/",
          "height": 612
        },
        "id": "5UBDdJGwceVa",
        "outputId": "93691445-0a29-4986-f7f0-adccc068e778"
      },
      "execution_count": null,
      "outputs": [
        {
          "output_type": "display_data",
          "data": {
            "text/plain": [
              "<Figure size 2000x800 with 2 Axes>"
            ],
            "image/png": "[encoded data removed]"
          },
          "metadata": {}
        }
      ]
    },
    {
      "cell_type": "markdown",
      "source": [
        "### Plotting tweets length"
      ],
      "metadata": {
        "id": "-mAiYewawmcZ"
      }
    },
    {
      "cell_type": "code",
      "source": [
        "train_data[\"length\"]  = train_data[\"text\"].apply(len)\n"
      ],
      "metadata": {
        "id": "9lKl03g3xAnw"
      },
      "execution_count": null,
      "outputs": []
    },
    {
      "cell_type": "markdown",
      "source": [
        "We can create a column length in train_data, which will have length of each text."
      ],
      "metadata": {
        "id": "QqK3ULftyKMu"
      }
    },
    {
      "cell_type": "code",
      "source": [
        "import matplotlib.pyplot as plt\n",
        "import seaborn as sns\n",
        "\n",
        "# Set up the figure and axes\n",
        "fig, axes = plt.subplots(nrows=1, ncols=2, figsize=(14, 4))\n",
        "\n",
        "# Histogram for Non Disaster Tweets\n",
        "sns.histplot(train_data[train_data['target'] == 0]['length'], bins=60, kde=True, ax=axes[0])\n",
        "axes[0].set_xlabel('Length of Tweets')\n",
        "axes[0].set_ylabel('Frequency')\n",
        "axes[0].set_title('Histogram for Non Disaster Tweets')\n",
        "\n",
        "# Histogram for Disaster Tweets\n",
        "sns.histplot(train_data[train_data['target'] == 1]['length'], bins=60, kde=True, ax=axes[1])\n",
        "axes[1].set_xlabel('Length of Tweets')\n",
        "axes[1].set_ylabel('Frequency')\n",
        "axes[1].set_title('Histogram for Disaster Tweets')\n",
        "\n",
        "# Adjust layout\n",
        "plt.tight_layout()\n",
        "\n",
        "# Show the plots\n",
        "plt.show()\n"
      ],
      "metadata": {
        "colab": {
          "base_uri": "https://localhost:8080/",
          "height": 407
        },
        "id": "Ud311n3_wohO",
        "outputId": "b71af79f-6502-4950-9313-c436f640e823"
      },
      "execution_count": null,
      "outputs": [
        {
          "output_type": "display_data",
          "data": {
            "text/plain": [
              "<Figure size 1400x400 with 2 Axes>"
            ],
            "image/png": "[encoded data removed]"
          },
          "metadata": {}
        }
      ]
    },
    {
      "cell_type": "markdown",
      "source": [
        "## Model creation Using LSTM\n",
        "\n",
        "---\n",
        "\n"
      ],
      "metadata": {
        "id": "WML9tQ3XyTAR"
      }
    },
    {
      "cell_type": "markdown",
      "source": [
        "### Splitting Text data"
      ],
      "metadata": {
        "id": "1oJwQUjry7t8"
      }
    },
    {
      "cell_type": "code",
      "source": [
        "y = train_data['target']"
      ],
      "metadata": {
        "id": "VhNeZ1-YyUVw"
      },
      "execution_count": null,
      "outputs": []
    },
    {
      "cell_type": "code",
      "source": [
        "X_train, X_test, y_train, y_test = train_test_split(X,y, test_size = 0.2, random_state =41)"
      ],
      "metadata": {
        "id": "fcsyKhvjzAH9"
      },
      "execution_count": null,
      "outputs": []
    },
    {
      "cell_type": "markdown",
      "source": [
        "Embedding Layer\n",
        "\n",
        "Embedding layer is the first layer of neural network and it has 3 parameters:\n",
        "\n",
        "* input_dim: Number of distinct token vector, here it will be 3000 (max_features)\n",
        "* output_dim: Dimension of embedding vector, we can take 32 dimension\n",
        "* input_length: Size of input layer\n",
        "Here embedding layer of size will be (3000, 32)."
      ],
      "metadata": {
        "id": "4EMEq_aSzDJZ"
      }
    },
    {
      "cell_type": "code",
      "source": [
        "os.environ['TF_XLA_FLAGS'] = '--tf_xla_enable_xla_devices'"
      ],
      "metadata": {
        "id": "Ns4MgIIdzJjZ"
      },
      "execution_count": null,
      "outputs": []
    },
    {
      "cell_type": "code",
      "source": [
        "embed_dim = 32\n",
        "lstm_out = 32\n",
        "model = Sequential()\n",
        "model.add(Embedding(max_features, embed_dim,input_length = X.shape[1]))\n",
        "model.add(Dropout(0.2))\n",
        "model.add(LSTM(lstm_out, dropout=0.2, recurrent_dropout=0.4))\n",
        "model.add(Dense(1,activation='sigmoid'))\n",
        "adam = optimizers.Adam(learning_rate=0.002)\n",
        "model.compile(loss = 'binary_crossentropy', optimizer=adam ,metrics = ['accuracy'])\n",
        "print(model.summary())"
      ],
      "metadata": {
        "colab": {
          "base_uri": "https://localhost:8080/"
        },
        "id": "bIoGQFIjzSTW",
        "outputId": "5adc1e28-12a0-4c09-f14e-2c2e3cc9bda4"
      },
      "execution_count": null,
      "outputs": [
        {
          "output_type": "stream",
          "name": "stdout",
          "text": [
            "Model: \"sequential_4\"\n",
            "_________________________________________________________________\n",
            " Layer (type)                Output Shape              Param #   \n",
            "=================================================================\n",
            " embedding_3 (Embedding)     (None, 50, 32)            160000    \n",
            "                                                                 \n",
            " dropout_5 (Dropout)         (None, 50, 32)            0         \n",
            "                                                                 \n",
            " lstm_4 (LSTM)               (None, 32)                8320      \n",
            "                                                                 \n",
            " dense_3 (Dense)             (None, 1)                 33        \n",
            "                                                                 \n",
            "=================================================================\n",
            "Total params: 168353 (657.63 KB)\n",
            "Trainable params: 168353 (657.63 KB)\n",
            "Non-trainable params: 0 (0.00 Byte)\n",
            "_________________________________________________________________\n",
            "None\n"
          ]
        }
      ]
    },
    {
      "cell_type": "code",
      "source": [
        "model.fit(X_train, y_train, epochs = 10, batch_size=32, validation_data=(X_test, y_test))"
      ],
      "metadata": {
        "colab": {
          "base_uri": "https://localhost:8080/"
        },
        "id": "8o8n5QDA2l08",
        "outputId": "1e7ab76d-f020-4f85-9816-d98fa8565b4a"
      },
      "execution_count": null,
      "outputs": [
        {
          "output_type": "stream",
          "name": "stdout",
          "text": [
            "Epoch 1/10\n",
            "191/191 [==============================] - 14s 44ms/step - loss: 0.5447 - accuracy: 0.7220 - val_loss: 0.4304 - val_accuracy: 0.8142\n",
            "Epoch 2/10\n",
            "191/191 [==============================] - 6s 31ms/step - loss: 0.3777 - accuracy: 0.8429 - val_loss: 0.4494 - val_accuracy: 0.8122\n",
            "Epoch 3/10\n",
            "191/191 [==============================] - 8s 42ms/step - loss: 0.3227 - accuracy: 0.8657 - val_loss: 0.4614 - val_accuracy: 0.7945\n",
            "Epoch 4/10\n",
            "191/191 [==============================] - 6s 31ms/step - loss: 0.2894 - accuracy: 0.8867 - val_loss: 0.5095 - val_accuracy: 0.7886\n",
            "Epoch 5/10\n",
            "191/191 [==============================] - 8s 41ms/step - loss: 0.2613 - accuracy: 0.8916 - val_loss: 0.5508 - val_accuracy: 0.7879\n",
            "Epoch 6/10\n",
            "191/191 [==============================] - 6s 30ms/step - loss: 0.2284 - accuracy: 0.9048 - val_loss: 0.7075 - val_accuracy: 0.7735\n",
            "Epoch 7/10\n",
            "191/191 [==============================] - 8s 40ms/step - loss: 0.2049 - accuracy: 0.9144 - val_loss: 0.6589 - val_accuracy: 0.7689\n",
            "Epoch 8/10\n",
            "191/191 [==============================] - 6s 31ms/step - loss: 0.1837 - accuracy: 0.9240 - val_loss: 0.8275 - val_accuracy: 0.7669\n",
            "Epoch 9/10\n",
            "191/191 [==============================] - 7s 35ms/step - loss: 0.1716 - accuracy: 0.9278 - val_loss: 0.7820 - val_accuracy: 0.7682\n",
            "Epoch 10/10\n",
            "191/191 [==============================] - 7s 36ms/step - loss: 0.1571 - accuracy: 0.9368 - val_loss: 0.8861 - val_accuracy: 0.7551\n"
          ]
        },
        {
          "output_type": "execute_result",
          "data": {
            "text/plain": [
              "<keras.src.callbacks.History at 0x79e4ca8fd4e0>"
            ]
          },
          "metadata": {},
          "execution_count": 106
        }
      ]
    },
    {
      "cell_type": "markdown",
      "source": [
        "### Evaluation"
      ],
      "metadata": {
        "id": "4J_S4x1O3SYu"
      }
    },
    {
      "cell_type": "code",
      "source": [
        "train_accuracy = round(metrics.accuracy_score(y_train,model.predict(X_train).round())*100)\n",
        "train_accuracy"
      ],
      "metadata": {
        "colab": {
          "base_uri": "https://localhost:8080/"
        },
        "id": "fn0CRiYQ3Tyv",
        "outputId": "845b6a12-276b-4077-8295-c0d471451b7e"
      },
      "execution_count": null,
      "outputs": [
        {
          "output_type": "stream",
          "name": "stdout",
          "text": [
            "191/191 [==============================] - 3s 7ms/step\n"
          ]
        },
        {
          "output_type": "execute_result",
          "data": {
            "text/plain": [
              "96"
            ]
          },
          "metadata": {},
          "execution_count": 107
        }
      ]
    },
    {
      "cell_type": "code",
      "source": [
        "y_pred = model.predict(X_test).round()"
      ],
      "metadata": {
        "colab": {
          "base_uri": "https://localhost:8080/"
        },
        "id": "WHzBHad63qRi",
        "outputId": "0a1c0b26-1c21-4439-d09d-f5418597f804"
      },
      "execution_count": null,
      "outputs": [
        {
          "output_type": "stream",
          "name": "stdout",
          "text": [
            "48/48 [==============================] - 0s 9ms/step\n"
          ]
        }
      ]
    },
    {
      "cell_type": "code",
      "source": [
        "print('Accuracy  is  : ', (metrics.accuracy_score(y_test, y_pred)))\n",
        "print('Recall  is    : ', (metrics.recall_score(y_test, y_pred)))\n",
        "print('Precision  is : ', (metrics.precision_score(y_test, y_pred)))"
      ],
      "metadata": {
        "colab": {
          "base_uri": "https://localhost:8080/"
        },
        "id": "kz7liX-P3bOq",
        "outputId": "f08b1eb8-87b8-4f66-9548-9f427117722d"
      },
      "execution_count": null,
      "outputs": [
        {
          "output_type": "stream",
          "name": "stdout",
          "text": [
            "Accuracy  is  :  0.7550886408404465\n",
            "Recall  is    :  0.7332317073170732\n",
            "Precision  is :  0.7083946980854198\n"
          ]
        }
      ]
    },
    {
      "cell_type": "markdown",
      "source": [
        "### Confusion Matrix\n",
        "\n",
        "---\n",
        "\n"
      ],
      "metadata": {
        "id": "036qcu8M3xPz"
      }
    },
    {
      "cell_type": "code",
      "source": [
        "conm = confusion_matrix(y_test,y_pred)\n",
        "conm"
      ],
      "metadata": {
        "colab": {
          "base_uri": "https://localhost:8080/"
        },
        "id": "NsVJeEFX33FR",
        "outputId": "15d1a6e8-6ccb-4fb7-ffe8-8073d8162d95"
      },
      "execution_count": null,
      "outputs": [
        {
          "output_type": "execute_result",
          "data": {
            "text/plain": [
              "array([[669, 198],\n",
              "       [175, 481]])"
            ]
          },
          "metadata": {},
          "execution_count": 111
        }
      ]
    },
    {
      "cell_type": "code",
      "source": [
        "plt.figure(figsize=(7, 5))\n",
        "sns.heatmap(conm, annot=True, fmt='d', cmap='viridis')\n",
        "plt.show()"
      ],
      "metadata": {
        "colab": {
          "base_uri": "https://localhost:8080/",
          "height": 445
        },
        "id": "f1nP0Rx-37MK",
        "outputId": "18b7e2ae-a212-4c10-872f-66c3df5abf9f"
      },
      "execution_count": null,
      "outputs": [
        {
          "output_type": "display_data",
          "data": {
            "text/plain": [
              "<Figure size 700x500 with 2 Axes>"
            ],
            "image/png": "[encoded data removed]"
          },
          "metadata": {}
        }
      ]
    },
    {
      "cell_type": "markdown",
      "source": [
        "### Classification Report\n",
        "\n",
        "---\n",
        "\n"
      ],
      "metadata": {
        "id": "Qybe83uT4DCx"
      }
    },
    {
      "cell_type": "code",
      "source": [
        "print(classification_report(y_test, y_pred))"
      ],
      "metadata": {
        "colab": {
          "base_uri": "https://localhost:8080/"
        },
        "id": "V3iAlTkk4E-0",
        "outputId": "ec86a75b-c9cf-492d-812f-06e656ee05b6"
      },
      "execution_count": null,
      "outputs": [
        {
          "output_type": "stream",
          "name": "stdout",
          "text": [
            "              precision    recall  f1-score   support\n",
            "\n",
            "           0       0.79      0.77      0.78       867\n",
            "           1       0.71      0.73      0.72       656\n",
            "\n",
            "    accuracy                           0.76      1523\n",
            "   macro avg       0.75      0.75      0.75      1523\n",
            "weighted avg       0.76      0.76      0.76      1523\n",
            "\n"
          ]
        }
      ]
    },
    {
      "cell_type": "markdown",
      "source": [
        "s Accuracy, Precision, recall and F1 score are above 70 % this model can be considered as good model.\n",
        "\n",
        "By changing dimension on Embedding Layer, max_features, LSTM can check if the evalution factors are improving or not.\n",
        "\n"
      ],
      "metadata": {
        "id": "gZFW9fgr4K05"
      }
    },
    {
      "cell_type": "markdown",
      "source": [
        "## Prediction\n",
        "\n",
        "---\n",
        "\n"
      ],
      "metadata": {
        "id": "S9HTL4Wd4LwS"
      }
    },
    {
      "cell_type": "code",
      "source": [
        "test_data['clean_text'] = test_data['text'].apply(toclean_text)\n",
        "test_data[\"clean_text\"] = test_data[\"clean_text\"].apply(clean_tweet)"
      ],
      "metadata": {
        "id": "MFtlLruN5Z_W"
      },
      "execution_count": null,
      "outputs": []
    },
    {
      "cell_type": "code",
      "source": [
        "test_token = tokenizer.texts_to_sequences(test_data['clean_text'].values)\n",
        "test_token = pad_sequences(test_token, maxlen =l)"
      ],
      "metadata": {
        "id": "COv_eKNE7mhk"
      },
      "execution_count": null,
      "outputs": []
    },
    {
      "cell_type": "markdown",
      "source": [
        "### Creating New Model for Prediction with"
      ],
      "metadata": {
        "id": "2fpQgM2KDabI"
      }
    },
    {
      "cell_type": "code",
      "source": [
        "l =50\n",
        "max_features=5000\n",
        "tokenizer=Tokenizer(num_words=max_features,split=' ')\n",
        "tokenizer.fit_on_texts(train_data['clean_text'].values)\n",
        "X = tokenizer.texts_to_sequences(train_data['clean_text'].values)\n",
        "X = pad_sequences(X, maxlen =l)\n",
        "tokenizer.fit_on_texts(train_data['clean_text'].values)\n",
        "test_token = tokenizer.texts_to_sequences(test_data['clean_text'].values)\n",
        "test_token = pad_sequences(test_token, maxlen =l)\n",
        "embed_dim = 100\n",
        "lstm_out = 100\n",
        "model = Sequential()\n",
        "model.add(Embedding(max_features, embed_dim,input_length = X.shape[1]))\n",
        "model.add(Dropout(0.2))\n",
        "model.add(LSTM(lstm_out, dropout=0.2, return_sequences=True,recurrent_dropout=0.4))\n",
        "model.add(Dropout(0.2))\n",
        "model.add(LSTM(lstm_out,dropout=0.2, recurrent_dropout=0.2))\n",
        "model.add(Dropout(0.2))\n",
        "model.add(Dense(1,activation='sigmoid'))\n",
        "adam = optimizers.Adam(learning_rate=2e-3)\n",
        "model.compile(loss = 'binary_crossentropy', optimizer=adam ,metrics = ['accuracy'])\n",
        "print(model.summary())"
      ],
      "metadata": {
        "colab": {
          "base_uri": "https://localhost:8080/"
        },
        "id": "Fe7pW1oKBUZg",
        "outputId": "087cc984-0ff8-4f49-bdfe-efba808e9e43"
      },
      "execution_count": 136,
      "outputs": [
        {
          "output_type": "stream",
          "name": "stdout",
          "text": [
            "Model: \"sequential_5\"\n",
            "_________________________________________________________________\n",
            " Layer (type)                Output Shape              Param #   \n",
            "=================================================================\n",
            " embedding_4 (Embedding)     (None, 50, 100)           500000    \n",
            "                                                                 \n",
            " dropout_6 (Dropout)         (None, 50, 100)           0         \n",
            "                                                                 \n",
            " lstm_5 (LSTM)               (None, 50, 100)           80400     \n",
            "                                                                 \n",
            " dropout_7 (Dropout)         (None, 50, 100)           0         \n",
            "                                                                 \n",
            " lstm_6 (LSTM)               (None, 100)               80400     \n",
            "                                                                 \n",
            " dropout_8 (Dropout)         (None, 100)               0         \n",
            "                                                                 \n",
            " dense_4 (Dense)             (None, 1)                 101       \n",
            "                                                                 \n",
            "=================================================================\n",
            "Total params: 660901 (2.52 MB)\n",
            "Trainable params: 660901 (2.52 MB)\n",
            "Non-trainable params: 0 (0.00 Byte)\n",
            "_________________________________________________________________\n",
            "None\n"
          ]
        }
      ]
    },
    {
      "cell_type": "code",
      "source": [
        "es_callback = keras.callbacks.EarlyStopping(monitor='val_loss', patience=3)\n",
        "model.fit(X,y, epochs = 10,validation_split = 0.2 ,callbacks=[es_callback], batch_size=32)"
      ],
      "metadata": {
        "colab": {
          "base_uri": "https://localhost:8080/"
        },
        "id": "JFr6NzlVBbfJ",
        "outputId": "8d439a0d-51d0-4ddb-cfac-beea8192cefb"
      },
      "execution_count": 137,
      "outputs": [
        {
          "output_type": "stream",
          "name": "stdout",
          "text": [
            "Epoch 1/10\n",
            "191/191 [==============================] - 73s 308ms/step - loss: 0.5255 - accuracy: 0.7471 - val_loss: 0.4482 - val_accuracy: 0.7925\n",
            "Epoch 2/10\n",
            "191/191 [==============================] - 55s 290ms/step - loss: 0.3515 - accuracy: 0.8522 - val_loss: 0.4735 - val_accuracy: 0.7820\n",
            "Epoch 3/10\n",
            "191/191 [==============================] - 63s 328ms/step - loss: 0.2852 - accuracy: 0.8862 - val_loss: 0.5635 - val_accuracy: 0.7571\n",
            "Epoch 4/10\n",
            "191/191 [==============================] - 56s 295ms/step - loss: 0.2328 - accuracy: 0.9108 - val_loss: 0.5583 - val_accuracy: 0.7564\n"
          ]
        },
        {
          "output_type": "execute_result",
          "data": {
            "text/plain": [
              "<keras.src.callbacks.History at 0x79e4c52ca2f0>"
            ]
          },
          "metadata": {},
          "execution_count": 137
        }
      ]
    },
    {
      "cell_type": "code",
      "source": [
        "y_hat = model.predict(test_token).round()\n",
        "submission = pd.read_csv(\"/content/drive/MyDrive/DATASET/DISTWEET SAMPLE.csv\")\n",
        "submission['target'] = np.round(y_hat).astype('int')"
      ],
      "metadata": {
        "colab": {
          "base_uri": "https://localhost:8080/"
        },
        "id": "gE92C5sBBf11",
        "outputId": "b7cbe784-e8c1-4f85-9e09-a88586c3f638"
      },
      "execution_count": 141,
      "outputs": [
        {
          "output_type": "stream",
          "name": "stdout",
          "text": [
            "102/102 [==============================] - 6s 56ms/step\n"
          ]
        }
      ]
    },
    {
      "cell_type": "code",
      "source": [
        "submission.head(10).style.background_gradient(cmap='coolwarm')"
      ],
      "metadata": {
        "colab": {
          "base_uri": "https://localhost:8080/",
          "height": 363
        },
        "id": "fmqwyz4HDLbB",
        "outputId": "bb9317a2-e37c-49d4-dd2f-b4d5a11c9906"
      },
      "execution_count": 142,
      "outputs": [
        {
          "output_type": "execute_result",
          "data": {
            "text/plain": [
              "<pandas.io.formats.style.Styler at 0x79e4a86a7730>"
            ],
            "text/html": [
              "<style type=\"text/css\">\n",
              "#T_bc46f_row0_col0, #T_bc46f_row0_col1, #T_bc46f_row6_col1, #T_bc46f_row7_col1, #T_bc46f_row8_col1, #T_bc46f_row9_col1 {\n",
              "  background-color: #3b4cc0;\n",
              "  color: #f1f1f1;\n",
              "}\n",
              "#T_bc46f_row1_col0 {\n",
              "  background-color: #4f69d9;\n",
              "  color: #f1f1f1;\n",
              "}\n",
              "#T_bc46f_row1_col1, #T_bc46f_row2_col1, #T_bc46f_row3_col1, #T_bc46f_row4_col1, #T_bc46f_row5_col1, #T_bc46f_row9_col0 {\n",
              "  background-color: #b40426;\n",
              "  color: #f1f1f1;\n",
              "}\n",
              "#T_bc46f_row2_col0 {\n",
              "  background-color: #5a78e4;\n",
              "  color: #f1f1f1;\n",
              "}\n",
              "#T_bc46f_row3_col0 {\n",
              "  background-color: #a2c1ff;\n",
              "  color: #000000;\n",
              "}\n",
              "#T_bc46f_row4_col0 {\n",
              "  background-color: #bad0f8;\n",
              "  color: #000000;\n",
              "}\n",
              "#T_bc46f_row5_col0 {\n",
              "  background-color: #c4d5f3;\n",
              "  color: #000000;\n",
              "}\n",
              "#T_bc46f_row6_col0 {\n",
              "  background-color: #f6a385;\n",
              "  color: #000000;\n",
              "}\n",
              "#T_bc46f_row7_col0 {\n",
              "  background-color: #f39577;\n",
              "  color: #000000;\n",
              "}\n",
              "#T_bc46f_row8_col0 {\n",
              "  background-color: #cc403a;\n",
              "  color: #f1f1f1;\n",
              "}\n",
              "</style>\n",
              "<table id=\"T_bc46f\" class=\"dataframe\">\n",
              "  <thead>\n",
              "    <tr>\n",
              "      <th class=\"blank level0\" >&nbsp;</th>\n",
              "      <th id=\"T_bc46f_level0_col0\" class=\"col_heading level0 col0\" >id</th>\n",
              "      <th id=\"T_bc46f_level0_col1\" class=\"col_heading level0 col1\" >target</th>\n",
              "    </tr>\n",
              "  </thead>\n",
              "  <tbody>\n",
              "    <tr>\n",
              "      <th id=\"T_bc46f_level0_row0\" class=\"row_heading level0 row0\" >0</th>\n",
              "      <td id=\"T_bc46f_row0_col0\" class=\"data row0 col0\" >0</td>\n",
              "      <td id=\"T_bc46f_row0_col1\" class=\"data row0 col1\" >0</td>\n",
              "    </tr>\n",
              "    <tr>\n",
              "      <th id=\"T_bc46f_level0_row1\" class=\"row_heading level0 row1\" >1</th>\n",
              "      <td id=\"T_bc46f_row1_col0\" class=\"data row1 col0\" >2</td>\n",
              "      <td id=\"T_bc46f_row1_col1\" class=\"data row1 col1\" >1</td>\n",
              "    </tr>\n",
              "    <tr>\n",
              "      <th id=\"T_bc46f_level0_row2\" class=\"row_heading level0 row2\" >2</th>\n",
              "      <td id=\"T_bc46f_row2_col0\" class=\"data row2 col0\" >3</td>\n",
              "      <td id=\"T_bc46f_row2_col1\" class=\"data row2 col1\" >1</td>\n",
              "    </tr>\n",
              "    <tr>\n",
              "      <th id=\"T_bc46f_level0_row3\" class=\"row_heading level0 row3\" >3</th>\n",
              "      <td id=\"T_bc46f_row3_col0\" class=\"data row3 col0\" >9</td>\n",
              "      <td id=\"T_bc46f_row3_col1\" class=\"data row3 col1\" >1</td>\n",
              "    </tr>\n",
              "    <tr>\n",
              "      <th id=\"T_bc46f_level0_row4\" class=\"row_heading level0 row4\" >4</th>\n",
              "      <td id=\"T_bc46f_row4_col0\" class=\"data row4 col0\" >11</td>\n",
              "      <td id=\"T_bc46f_row4_col1\" class=\"data row4 col1\" >1</td>\n",
              "    </tr>\n",
              "    <tr>\n",
              "      <th id=\"T_bc46f_level0_row5\" class=\"row_heading level0 row5\" >5</th>\n",
              "      <td id=\"T_bc46f_row5_col0\" class=\"data row5 col0\" >12</td>\n",
              "      <td id=\"T_bc46f_row5_col1\" class=\"data row5 col1\" >1</td>\n",
              "    </tr>\n",
              "    <tr>\n",
              "      <th id=\"T_bc46f_level0_row6\" class=\"row_heading level0 row6\" >6</th>\n",
              "      <td id=\"T_bc46f_row6_col0\" class=\"data row6 col0\" >21</td>\n",
              "      <td id=\"T_bc46f_row6_col1\" class=\"data row6 col1\" >0</td>\n",
              "    </tr>\n",
              "    <tr>\n",
              "      <th id=\"T_bc46f_level0_row7\" class=\"row_heading level0 row7\" >7</th>\n",
              "      <td id=\"T_bc46f_row7_col0\" class=\"data row7 col0\" >22</td>\n",
              "      <td id=\"T_bc46f_row7_col1\" class=\"data row7 col1\" >0</td>\n",
              "    </tr>\n",
              "    <tr>\n",
              "      <th id=\"T_bc46f_level0_row8\" class=\"row_heading level0 row8\" >8</th>\n",
              "      <td id=\"T_bc46f_row8_col0\" class=\"data row8 col0\" >27</td>\n",
              "      <td id=\"T_bc46f_row8_col1\" class=\"data row8 col1\" >0</td>\n",
              "    </tr>\n",
              "    <tr>\n",
              "      <th id=\"T_bc46f_level0_row9\" class=\"row_heading level0 row9\" >9</th>\n",
              "      <td id=\"T_bc46f_row9_col0\" class=\"data row9 col0\" >29</td>\n",
              "      <td id=\"T_bc46f_row9_col1\" class=\"data row9 col1\" >0</td>\n",
              "    </tr>\n",
              "  </tbody>\n",
              "</table>\n"
            ]
          },
          "metadata": {},
          "execution_count": 142
        }
      ]
    },
    {
      "cell_type": "code",
      "source": [
        "submission.target.value_counts().plot.bar()"
      ],
      "metadata": {
        "colab": {
          "base_uri": "https://localhost:8080/",
          "height": 442
        },
        "id": "mmFiJxckCeRq",
        "outputId": "a9eb4d3f-3f21-4211-e2b8-7f2da579dd42"
      },
      "execution_count": 139,
      "outputs": [
        {
          "output_type": "execute_result",
          "data": {
            "text/plain": [
              "<Axes: >"
            ]
          },
          "metadata": {},
          "execution_count": 139
        },
        {
          "output_type": "display_data",
          "data": {
            "text/plain": [
              "<Figure size 640x480 with 1 Axes>"
            ],
            "image/png": "[encoded data removed]"
          },
          "metadata": {}
        }
      ]
    },
    {
      "cell_type": "code",
      "source": [],
      "metadata": {
        "id": "-dZPWUb-CpJ8"
      },
      "execution_count": 142,
      "outputs": []
    }
  ]
}